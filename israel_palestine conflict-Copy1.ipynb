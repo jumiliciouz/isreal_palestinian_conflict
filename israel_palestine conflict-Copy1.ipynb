{
 "cells": [
  {
   "cell_type": "code",
   "execution_count": 1,
   "id": "42a53c17",
   "metadata": {},
   "outputs": [],
   "source": [
    "import pandas as pd\n",
    "import numpy as np \n",
    "from sklearn.metrics import confusion_matrix, accuracy_score, ConfusionMatrixDisplay\n",
    "import matplotlib.pyplot as plt\n",
    "import seaborn as sns"
   ]
  },
  {
   "cell_type": "code",
   "execution_count": 2,
   "id": "6ffead87",
   "metadata": {},
   "outputs": [],
   "source": [
    "df = pd.read_csv('\\isreal\\fatalities_isr_pse_conflict_2000_to_2023.csv')"
   ]
  },
  {
   "cell_type": "code",
   "execution_count": 3,
   "id": "38d03b74",
   "metadata": {},
   "outputs": [
    {
     "data": {
      "text/html": [
       "<div>\n",
       "<style scoped>\n",
       "    .dataframe tbody tr th:only-of-type {\n",
       "        vertical-align: middle;\n",
       "    }\n",
       "\n",
       "    .dataframe tbody tr th {\n",
       "        vertical-align: top;\n",
       "    }\n",
       "\n",
       "    .dataframe thead th {\n",
       "        text-align: right;\n",
       "    }\n",
       "</style>\n",
       "<table border=\"1\" class=\"dataframe\">\n",
       "  <thead>\n",
       "    <tr style=\"text-align: right;\">\n",
       "      <th></th>\n",
       "      <th>name</th>\n",
       "      <th>date_of_event</th>\n",
       "      <th>age</th>\n",
       "      <th>citizenship</th>\n",
       "      <th>event_location</th>\n",
       "      <th>event_location_district</th>\n",
       "      <th>event_location_region</th>\n",
       "      <th>date_of_death</th>\n",
       "      <th>gender</th>\n",
       "      <th>took_part_in_the_hostilities</th>\n",
       "      <th>place_of_residence</th>\n",
       "      <th>place_of_residence_district</th>\n",
       "      <th>type_of_injury</th>\n",
       "      <th>ammunition</th>\n",
       "      <th>killed_by</th>\n",
       "      <th>notes</th>\n",
       "    </tr>\n",
       "  </thead>\n",
       "  <tbody>\n",
       "    <tr>\n",
       "      <th>0</th>\n",
       "      <td>'Abd a-Rahman Suleiman Muhammad Abu Daghash</td>\n",
       "      <td>2023-09-24</td>\n",
       "      <td>32.0</td>\n",
       "      <td>Palestinian</td>\n",
       "      <td>Nur Shams R.C.</td>\n",
       "      <td>Tulkarm</td>\n",
       "      <td>West Bank</td>\n",
       "      <td>2023-09-24</td>\n",
       "      <td>M</td>\n",
       "      <td>NaN</td>\n",
       "      <td>Nur Shams R.C.</td>\n",
       "      <td>Tulkarm</td>\n",
       "      <td>gunfire</td>\n",
       "      <td>live ammunition</td>\n",
       "      <td>Israeli security forces</td>\n",
       "      <td>Fatally shot by Israeli forces while standing ...</td>\n",
       "    </tr>\n",
       "    <tr>\n",
       "      <th>1</th>\n",
       "      <td>Usayed Farhan Muhammad 'Ali Abu 'Ali</td>\n",
       "      <td>2023-09-24</td>\n",
       "      <td>21.0</td>\n",
       "      <td>Palestinian</td>\n",
       "      <td>Nur Shams R.C.</td>\n",
       "      <td>Tulkarm</td>\n",
       "      <td>West Bank</td>\n",
       "      <td>2023-09-24</td>\n",
       "      <td>M</td>\n",
       "      <td>NaN</td>\n",
       "      <td>Nur Shams R.C.</td>\n",
       "      <td>Tulkarm</td>\n",
       "      <td>gunfire</td>\n",
       "      <td>live ammunition</td>\n",
       "      <td>Israeli security forces</td>\n",
       "      <td>Fatally shot by Israeli forces while trying to...</td>\n",
       "    </tr>\n",
       "    <tr>\n",
       "      <th>2</th>\n",
       "      <td>'Abdallah 'Imad Sa'ed Abu Hassan</td>\n",
       "      <td>2023-09-22</td>\n",
       "      <td>16.0</td>\n",
       "      <td>Palestinian</td>\n",
       "      <td>Kfar Dan</td>\n",
       "      <td>Jenin</td>\n",
       "      <td>West Bank</td>\n",
       "      <td>2023-09-22</td>\n",
       "      <td>M</td>\n",
       "      <td>NaN</td>\n",
       "      <td>al-Yamun</td>\n",
       "      <td>Jenin</td>\n",
       "      <td>gunfire</td>\n",
       "      <td>live ammunition</td>\n",
       "      <td>Israeli security forces</td>\n",
       "      <td>Fatally shot by soldiers while firing at them ...</td>\n",
       "    </tr>\n",
       "    <tr>\n",
       "      <th>3</th>\n",
       "      <td>Durgham Muhammad Yihya al-Akhras</td>\n",
       "      <td>2023-09-20</td>\n",
       "      <td>19.0</td>\n",
       "      <td>Palestinian</td>\n",
       "      <td>'Aqbat Jaber R.C.</td>\n",
       "      <td>Jericho</td>\n",
       "      <td>West Bank</td>\n",
       "      <td>2023-09-20</td>\n",
       "      <td>M</td>\n",
       "      <td>NaN</td>\n",
       "      <td>'Aqbat Jaber R.C.</td>\n",
       "      <td>Jericho</td>\n",
       "      <td>gunfire</td>\n",
       "      <td>live ammunition</td>\n",
       "      <td>Israeli security forces</td>\n",
       "      <td>Shot in the head by Israeli forces while throw...</td>\n",
       "    </tr>\n",
       "    <tr>\n",
       "      <th>4</th>\n",
       "      <td>Raafat 'Omar Ahmad Khamaisah</td>\n",
       "      <td>2023-09-19</td>\n",
       "      <td>15.0</td>\n",
       "      <td>Palestinian</td>\n",
       "      <td>Jenin R.C.</td>\n",
       "      <td>Jenin</td>\n",
       "      <td>West Bank</td>\n",
       "      <td>2023-09-19</td>\n",
       "      <td>M</td>\n",
       "      <td>NaN</td>\n",
       "      <td>Jenin</td>\n",
       "      <td>Jenin</td>\n",
       "      <td>gunfire</td>\n",
       "      <td>live ammunition</td>\n",
       "      <td>Israeli security forces</td>\n",
       "      <td>Wounded by soldiers’ gunfire after running awa...</td>\n",
       "    </tr>\n",
       "    <tr>\n",
       "      <th>5</th>\n",
       "      <td>'Ata Yasser 'Ata Musa</td>\n",
       "      <td>2023-09-19</td>\n",
       "      <td>29.0</td>\n",
       "      <td>Palestinian</td>\n",
       "      <td>Jenin R.C.</td>\n",
       "      <td>Jenin</td>\n",
       "      <td>West Bank</td>\n",
       "      <td>2023-09-20</td>\n",
       "      <td>M</td>\n",
       "      <td>NaN</td>\n",
       "      <td>Jenin</td>\n",
       "      <td>Jenin</td>\n",
       "      <td>gunfire</td>\n",
       "      <td>missile</td>\n",
       "      <td>Israeli security forces</td>\n",
       "      <td>Wounded by shrapnel from a missile fired by Is...</td>\n",
       "    </tr>\n",
       "    <tr>\n",
       "      <th>6</th>\n",
       "      <td>Yusef Salem Yusef Radwan</td>\n",
       "      <td>2023-09-19</td>\n",
       "      <td>24.0</td>\n",
       "      <td>Palestinian</td>\n",
       "      <td>Gaza City</td>\n",
       "      <td>Gaza</td>\n",
       "      <td>Gaza Strip</td>\n",
       "      <td>2023-09-19</td>\n",
       "      <td>M</td>\n",
       "      <td>No</td>\n",
       "      <td>Khan Yunis</td>\n",
       "      <td>Khan Yunis</td>\n",
       "      <td>gunfire</td>\n",
       "      <td>live ammunition</td>\n",
       "      <td>Israeli security forces</td>\n",
       "      <td>Fatally shot by soldiers while participating i...</td>\n",
       "    </tr>\n",
       "    <tr>\n",
       "      <th>7</th>\n",
       "      <td>Mahmoud Khaled S'ud 'Ar'arawi</td>\n",
       "      <td>2023-09-19</td>\n",
       "      <td>25.0</td>\n",
       "      <td>Palestinian</td>\n",
       "      <td>Jenin R.C.</td>\n",
       "      <td>Jenin</td>\n",
       "      <td>West Bank</td>\n",
       "      <td>2023-09-19</td>\n",
       "      <td>M</td>\n",
       "      <td>NaN</td>\n",
       "      <td>Jenin R.C.</td>\n",
       "      <td>Jenin</td>\n",
       "      <td>gunfire</td>\n",
       "      <td>missile</td>\n",
       "      <td>Israeli security forces</td>\n",
       "      <td>Wounded by shrapnel from a missile fired by Is...</td>\n",
       "    </tr>\n",
       "    <tr>\n",
       "      <th>8</th>\n",
       "      <td>Mahmoud 'Ali Nafe'a a-S'adi</td>\n",
       "      <td>2023-09-19</td>\n",
       "      <td>23.0</td>\n",
       "      <td>Palestinian</td>\n",
       "      <td>Jenin R.C.</td>\n",
       "      <td>Jenin</td>\n",
       "      <td>West Bank</td>\n",
       "      <td>2023-09-19</td>\n",
       "      <td>M</td>\n",
       "      <td>NaN</td>\n",
       "      <td>Jenin R.C.</td>\n",
       "      <td>Jenin</td>\n",
       "      <td>gunfire</td>\n",
       "      <td>missile</td>\n",
       "      <td>Israeli security forces</td>\n",
       "      <td>Wounded by shrapnel from a missile fired by Is...</td>\n",
       "    </tr>\n",
       "    <tr>\n",
       "      <th>9</th>\n",
       "      <td>Milad Munzer Wajih a-Ra'i</td>\n",
       "      <td>2023-09-09</td>\n",
       "      <td>15.0</td>\n",
       "      <td>Palestinian</td>\n",
       "      <td>al-'Arrub R.C.</td>\n",
       "      <td>Hebron</td>\n",
       "      <td>West Bank</td>\n",
       "      <td>2023-09-09</td>\n",
       "      <td>M</td>\n",
       "      <td>NaN</td>\n",
       "      <td>al-'Arrub Camp</td>\n",
       "      <td>Hebron</td>\n",
       "      <td>gunfire</td>\n",
       "      <td>live ammunition</td>\n",
       "      <td>Israeli security forces</td>\n",
       "      <td>Fatally shot by a soldier after throwing two M...</td>\n",
       "    </tr>\n",
       "    <tr>\n",
       "      <th>10</th>\n",
       "      <td>Muhammad Yusef Isma'il Zbeidat</td>\n",
       "      <td>2023-09-05</td>\n",
       "      <td>16.0</td>\n",
       "      <td>Palestinian</td>\n",
       "      <td>Argaman</td>\n",
       "      <td>Jericho</td>\n",
       "      <td>West Bank</td>\n",
       "      <td>2023-09-05</td>\n",
       "      <td>M</td>\n",
       "      <td>NaN</td>\n",
       "      <td>a-Zbeidat</td>\n",
       "      <td>Jericho</td>\n",
       "      <td>gunfire</td>\n",
       "      <td>live ammunition</td>\n",
       "      <td>Israeli security forces</td>\n",
       "      <td>Fatally shot by Border Police officers after f...</td>\n",
       "    </tr>\n",
       "    <tr>\n",
       "      <th>11</th>\n",
       "      <td>'Ayed Samih Khaled Abu Harb</td>\n",
       "      <td>2023-09-05</td>\n",
       "      <td>21.0</td>\n",
       "      <td>Palestinian</td>\n",
       "      <td>Nur Shams R.C.</td>\n",
       "      <td>Tulkarm</td>\n",
       "      <td>West Bank</td>\n",
       "      <td>2023-09-05</td>\n",
       "      <td>M</td>\n",
       "      <td>NaN</td>\n",
       "      <td>Nur Shams R.C.</td>\n",
       "      <td>Tulkarm</td>\n",
       "      <td>gunfire</td>\n",
       "      <td>live ammunition</td>\n",
       "      <td>Israeli security forces</td>\n",
       "      <td>Fatally shot by Israeli forces that had entere...</td>\n",
       "    </tr>\n",
       "    <tr>\n",
       "      <th>12</th>\n",
       "      <td>'Abd a-Rahim Fayez 'Awad Ghanam</td>\n",
       "      <td>2023-09-01</td>\n",
       "      <td>45.0</td>\n",
       "      <td>Palestinian</td>\n",
       "      <td>'Aqqabah</td>\n",
       "      <td>Tubas</td>\n",
       "      <td>West Bank</td>\n",
       "      <td>2023-09-01</td>\n",
       "      <td>M</td>\n",
       "      <td>NaN</td>\n",
       "      <td>Aqqaba</td>\n",
       "      <td>Tubas</td>\n",
       "      <td>gunfire</td>\n",
       "      <td>live ammunition</td>\n",
       "      <td>Israeli security forces</td>\n",
       "      <td>Fatally shot by Israeli forces who were surrou...</td>\n",
       "    </tr>\n",
       "    <tr>\n",
       "      <th>13</th>\n",
       "      <td>Dawood 'Abd a-Razeq Fayez Fayez</td>\n",
       "      <td>2023-08-31</td>\n",
       "      <td>41.0</td>\n",
       "      <td>Palestinian</td>\n",
       "      <td>Beit Sira</td>\n",
       "      <td>Ramallah and al-Bira</td>\n",
       "      <td>West Bank</td>\n",
       "      <td>2023-08-31</td>\n",
       "      <td>M</td>\n",
       "      <td>NaN</td>\n",
       "      <td>Deir Ammar Camp</td>\n",
       "      <td>Ramallah and al-Bira</td>\n",
       "      <td>gunfire</td>\n",
       "      <td>live ammunition</td>\n",
       "      <td>Israeli security forces</td>\n",
       "      <td>Fatally shot by security guards after running ...</td>\n",
       "    </tr>\n",
       "    <tr>\n",
       "      <th>14</th>\n",
       "      <td>Khaled Samer Fadel a-Z'anin</td>\n",
       "      <td>2023-08-30</td>\n",
       "      <td>14.0</td>\n",
       "      <td>Palestinian</td>\n",
       "      <td>al-Musrarah</td>\n",
       "      <td>East Jerusalem</td>\n",
       "      <td>West Bank</td>\n",
       "      <td>2023-08-30</td>\n",
       "      <td>M</td>\n",
       "      <td>NaN</td>\n",
       "      <td>Beit Hanina</td>\n",
       "      <td>East Jerusalem</td>\n",
       "      <td>stabbing</td>\n",
       "      <td>live ammunition</td>\n",
       "      <td>Israeli security forces</td>\n",
       "      <td>Fatally shot by a Border Police officer after,...</td>\n",
       "    </tr>\n",
       "    <tr>\n",
       "      <th>15</th>\n",
       "      <td>'Othman 'Atef Muhammad Abu Kharj</td>\n",
       "      <td>2023-08-22</td>\n",
       "      <td>17.0</td>\n",
       "      <td>Palestinian</td>\n",
       "      <td>a-Zababidah</td>\n",
       "      <td>Jenin</td>\n",
       "      <td>West Bank</td>\n",
       "      <td>2023-08-22</td>\n",
       "      <td>M</td>\n",
       "      <td>NaN</td>\n",
       "      <td>a-Zababida</td>\n",
       "      <td>Jenin</td>\n",
       "      <td>gunfire</td>\n",
       "      <td>live ammunition</td>\n",
       "      <td>Israeli security forces</td>\n",
       "      <td>Shot in the head after throwing explosive devi...</td>\n",
       "    </tr>\n",
       "    <tr>\n",
       "      <th>16</th>\n",
       "      <td>Batsheva Nagari</td>\n",
       "      <td>2023-08-21</td>\n",
       "      <td>40.0</td>\n",
       "      <td>Israeli</td>\n",
       "      <td>Beit Hagai</td>\n",
       "      <td>Hebron</td>\n",
       "      <td>West Bank</td>\n",
       "      <td>2023-08-21</td>\n",
       "      <td>F</td>\n",
       "      <td>NaN</td>\n",
       "      <td>Beit Hagai</td>\n",
       "      <td>Hebron</td>\n",
       "      <td>gunfire</td>\n",
       "      <td>live ammunition</td>\n",
       "      <td>Palestinian civilians</td>\n",
       "      <td>Fatally shot by Palestinians in a drive by sho...</td>\n",
       "    </tr>\n",
       "    <tr>\n",
       "      <th>17</th>\n",
       "      <td>Aviad Nir</td>\n",
       "      <td>2023-08-19</td>\n",
       "      <td>28.0</td>\n",
       "      <td>Israeli</td>\n",
       "      <td>Huwarah</td>\n",
       "      <td>Nablus</td>\n",
       "      <td>West Bank</td>\n",
       "      <td>2023-08-19</td>\n",
       "      <td>M</td>\n",
       "      <td>NaN</td>\n",
       "      <td>Ashdod</td>\n",
       "      <td>Israel</td>\n",
       "      <td>gunfire</td>\n",
       "      <td>live ammunition</td>\n",
       "      <td>Palestinian civilians</td>\n",
       "      <td>Fatally shot by a Palestinian while in a car w...</td>\n",
       "    </tr>\n",
       "    <tr>\n",
       "      <th>18</th>\n",
       "      <td>Shai Silas Nigerker</td>\n",
       "      <td>2023-08-19</td>\n",
       "      <td>60.0</td>\n",
       "      <td>Israeli</td>\n",
       "      <td>Huwarah</td>\n",
       "      <td>Nablus</td>\n",
       "      <td>West Bank</td>\n",
       "      <td>2023-08-19</td>\n",
       "      <td>M</td>\n",
       "      <td>NaN</td>\n",
       "      <td>Ashdod</td>\n",
       "      <td>Israel</td>\n",
       "      <td>gunfire</td>\n",
       "      <td>live ammunition</td>\n",
       "      <td>Palestinian civilians</td>\n",
       "      <td>Fatally shot by a Palestinian while in a car w...</td>\n",
       "    </tr>\n",
       "    <tr>\n",
       "      <th>19</th>\n",
       "      <td>Mustafa Akram Mustafa Qumbu'</td>\n",
       "      <td>2023-08-17</td>\n",
       "      <td>32.0</td>\n",
       "      <td>Palestinian</td>\n",
       "      <td>Jenin</td>\n",
       "      <td>Jenin</td>\n",
       "      <td>West Bank</td>\n",
       "      <td>2023-08-17</td>\n",
       "      <td>M</td>\n",
       "      <td>NaN</td>\n",
       "      <td>Jenin</td>\n",
       "      <td>Jenin</td>\n",
       "      <td>gunfire</td>\n",
       "      <td>live ammunition</td>\n",
       "      <td>Israeli security forces</td>\n",
       "      <td>Shot several times in the upper body by Israel...</td>\n",
       "    </tr>\n",
       "  </tbody>\n",
       "</table>\n",
       "</div>"
      ],
      "text/plain": [
       "                                           name date_of_event   age  \\\n",
       "0   'Abd a-Rahman Suleiman Muhammad Abu Daghash    2023-09-24  32.0   \n",
       "1          Usayed Farhan Muhammad 'Ali Abu 'Ali    2023-09-24  21.0   \n",
       "2              'Abdallah 'Imad Sa'ed Abu Hassan    2023-09-22  16.0   \n",
       "3              Durgham Muhammad Yihya al-Akhras    2023-09-20  19.0   \n",
       "4                  Raafat 'Omar Ahmad Khamaisah    2023-09-19  15.0   \n",
       "5                         'Ata Yasser 'Ata Musa    2023-09-19  29.0   \n",
       "6                      Yusef Salem Yusef Radwan    2023-09-19  24.0   \n",
       "7                 Mahmoud Khaled S'ud 'Ar'arawi    2023-09-19  25.0   \n",
       "8                   Mahmoud 'Ali Nafe'a a-S'adi    2023-09-19  23.0   \n",
       "9                     Milad Munzer Wajih a-Ra'i    2023-09-09  15.0   \n",
       "10               Muhammad Yusef Isma'il Zbeidat    2023-09-05  16.0   \n",
       "11                  'Ayed Samih Khaled Abu Harb    2023-09-05  21.0   \n",
       "12              'Abd a-Rahim Fayez 'Awad Ghanam    2023-09-01  45.0   \n",
       "13              Dawood 'Abd a-Razeq Fayez Fayez    2023-08-31  41.0   \n",
       "14                  Khaled Samer Fadel a-Z'anin    2023-08-30  14.0   \n",
       "15             'Othman 'Atef Muhammad Abu Kharj    2023-08-22  17.0   \n",
       "16                              Batsheva Nagari    2023-08-21  40.0   \n",
       "17                                    Aviad Nir    2023-08-19  28.0   \n",
       "18                          Shai Silas Nigerker    2023-08-19  60.0   \n",
       "19                 Mustafa Akram Mustafa Qumbu'    2023-08-17  32.0   \n",
       "\n",
       "    citizenship     event_location event_location_district  \\\n",
       "0   Palestinian     Nur Shams R.C.                 Tulkarm   \n",
       "1   Palestinian     Nur Shams R.C.                 Tulkarm   \n",
       "2   Palestinian           Kfar Dan                   Jenin   \n",
       "3   Palestinian  'Aqbat Jaber R.C.                 Jericho   \n",
       "4   Palestinian         Jenin R.C.                   Jenin   \n",
       "5   Palestinian         Jenin R.C.                   Jenin   \n",
       "6   Palestinian          Gaza City                    Gaza   \n",
       "7   Palestinian         Jenin R.C.                   Jenin   \n",
       "8   Palestinian         Jenin R.C.                   Jenin   \n",
       "9   Palestinian     al-'Arrub R.C.                  Hebron   \n",
       "10  Palestinian            Argaman                 Jericho   \n",
       "11  Palestinian     Nur Shams R.C.                 Tulkarm   \n",
       "12  Palestinian           'Aqqabah                   Tubas   \n",
       "13  Palestinian          Beit Sira    Ramallah and al-Bira   \n",
       "14  Palestinian        al-Musrarah          East Jerusalem   \n",
       "15  Palestinian        a-Zababidah                   Jenin   \n",
       "16      Israeli         Beit Hagai                  Hebron   \n",
       "17      Israeli            Huwarah                  Nablus   \n",
       "18      Israeli            Huwarah                  Nablus   \n",
       "19  Palestinian              Jenin                   Jenin   \n",
       "\n",
       "   event_location_region date_of_death gender took_part_in_the_hostilities  \\\n",
       "0              West Bank    2023-09-24      M                          NaN   \n",
       "1              West Bank    2023-09-24      M                          NaN   \n",
       "2              West Bank    2023-09-22      M                          NaN   \n",
       "3              West Bank    2023-09-20      M                          NaN   \n",
       "4              West Bank    2023-09-19      M                          NaN   \n",
       "5              West Bank    2023-09-20      M                          NaN   \n",
       "6             Gaza Strip    2023-09-19      M                           No   \n",
       "7              West Bank    2023-09-19      M                          NaN   \n",
       "8              West Bank    2023-09-19      M                          NaN   \n",
       "9              West Bank    2023-09-09      M                          NaN   \n",
       "10             West Bank    2023-09-05      M                          NaN   \n",
       "11             West Bank    2023-09-05      M                          NaN   \n",
       "12             West Bank    2023-09-01      M                          NaN   \n",
       "13             West Bank    2023-08-31      M                          NaN   \n",
       "14             West Bank    2023-08-30      M                          NaN   \n",
       "15             West Bank    2023-08-22      M                          NaN   \n",
       "16             West Bank    2023-08-21      F                          NaN   \n",
       "17             West Bank    2023-08-19      M                          NaN   \n",
       "18             West Bank    2023-08-19      M                          NaN   \n",
       "19             West Bank    2023-08-17      M                          NaN   \n",
       "\n",
       "   place_of_residence place_of_residence_district type_of_injury  \\\n",
       "0      Nur Shams R.C.                     Tulkarm        gunfire   \n",
       "1      Nur Shams R.C.                     Tulkarm        gunfire   \n",
       "2            al-Yamun                       Jenin        gunfire   \n",
       "3   'Aqbat Jaber R.C.                     Jericho        gunfire   \n",
       "4               Jenin                       Jenin        gunfire   \n",
       "5               Jenin                       Jenin        gunfire   \n",
       "6          Khan Yunis                  Khan Yunis        gunfire   \n",
       "7          Jenin R.C.                       Jenin        gunfire   \n",
       "8          Jenin R.C.                       Jenin        gunfire   \n",
       "9      al-'Arrub Camp                      Hebron        gunfire   \n",
       "10          a-Zbeidat                     Jericho        gunfire   \n",
       "11     Nur Shams R.C.                     Tulkarm        gunfire   \n",
       "12             Aqqaba                       Tubas        gunfire   \n",
       "13    Deir Ammar Camp        Ramallah and al-Bira        gunfire   \n",
       "14        Beit Hanina              East Jerusalem       stabbing   \n",
       "15         a-Zababida                       Jenin        gunfire   \n",
       "16         Beit Hagai                      Hebron        gunfire   \n",
       "17             Ashdod                      Israel        gunfire   \n",
       "18             Ashdod                      Israel        gunfire   \n",
       "19              Jenin                       Jenin        gunfire   \n",
       "\n",
       "         ammunition                killed_by  \\\n",
       "0   live ammunition  Israeli security forces   \n",
       "1   live ammunition  Israeli security forces   \n",
       "2   live ammunition  Israeli security forces   \n",
       "3   live ammunition  Israeli security forces   \n",
       "4   live ammunition  Israeli security forces   \n",
       "5           missile  Israeli security forces   \n",
       "6   live ammunition  Israeli security forces   \n",
       "7           missile  Israeli security forces   \n",
       "8           missile  Israeli security forces   \n",
       "9   live ammunition  Israeli security forces   \n",
       "10  live ammunition  Israeli security forces   \n",
       "11  live ammunition  Israeli security forces   \n",
       "12  live ammunition  Israeli security forces   \n",
       "13  live ammunition  Israeli security forces   \n",
       "14  live ammunition  Israeli security forces   \n",
       "15  live ammunition  Israeli security forces   \n",
       "16  live ammunition    Palestinian civilians   \n",
       "17  live ammunition    Palestinian civilians   \n",
       "18  live ammunition    Palestinian civilians   \n",
       "19  live ammunition  Israeli security forces   \n",
       "\n",
       "                                                notes  \n",
       "0   Fatally shot by Israeli forces while standing ...  \n",
       "1   Fatally shot by Israeli forces while trying to...  \n",
       "2   Fatally shot by soldiers while firing at them ...  \n",
       "3   Shot in the head by Israeli forces while throw...  \n",
       "4   Wounded by soldiers’ gunfire after running awa...  \n",
       "5   Wounded by shrapnel from a missile fired by Is...  \n",
       "6   Fatally shot by soldiers while participating i...  \n",
       "7   Wounded by shrapnel from a missile fired by Is...  \n",
       "8   Wounded by shrapnel from a missile fired by Is...  \n",
       "9   Fatally shot by a soldier after throwing two M...  \n",
       "10  Fatally shot by Border Police officers after f...  \n",
       "11  Fatally shot by Israeli forces that had entere...  \n",
       "12  Fatally shot by Israeli forces who were surrou...  \n",
       "13  Fatally shot by security guards after running ...  \n",
       "14  Fatally shot by a Border Police officer after,...  \n",
       "15  Shot in the head after throwing explosive devi...  \n",
       "16  Fatally shot by Palestinians in a drive by sho...  \n",
       "17  Fatally shot by a Palestinian while in a car w...  \n",
       "18  Fatally shot by a Palestinian while in a car w...  \n",
       "19  Shot several times in the upper body by Israel...  "
      ]
     },
     "execution_count": 3,
     "metadata": {},
     "output_type": "execute_result"
    }
   ],
   "source": [
    "df.head(20)"
   ]
  },
  {
   "cell_type": "code",
   "execution_count": 4,
   "id": "ba5a5dfa",
   "metadata": {},
   "outputs": [
    {
     "data": {
      "text/plain": [
       "<function matplotlib.pyplot.subplots(nrows=1, ncols=1, *, sharex=False, sharey=False, squeeze=True, subplot_kw=None, gridspec_kw=None, **fig_kw)>"
      ]
     },
     "execution_count": 4,
     "metadata": {},
     "output_type": "execute_result"
    },
    {
     "data": {
      "text/plain": [
       "<Figure size 1000x1000 with 0 Axes>"
      ]
     },
     "metadata": {},
     "output_type": "display_data"
    }
   ],
   "source": [
    "plt.figure(figsize = (10,10))\n",
    "plt.subplots"
   ]
  },
  {
   "cell_type": "code",
   "execution_count": 5,
   "id": "c5fc09ae",
   "metadata": {
    "scrolled": true
   },
   "outputs": [
    {
     "name": "stdout",
     "output_type": "stream",
     "text": [
      "<class 'pandas.core.frame.DataFrame'>\n",
      "RangeIndex: 11124 entries, 0 to 11123\n",
      "Data columns (total 16 columns):\n",
      " #   Column                        Non-Null Count  Dtype  \n",
      "---  ------                        --------------  -----  \n",
      " 0   name                          11124 non-null  object \n",
      " 1   date_of_event                 11124 non-null  object \n",
      " 2   age                           10995 non-null  float64\n",
      " 3   citizenship                   11124 non-null  object \n",
      " 4   event_location                11124 non-null  object \n",
      " 5   event_location_district       11124 non-null  object \n",
      " 6   event_location_region         11124 non-null  object \n",
      " 7   date_of_death                 11124 non-null  object \n",
      " 8   gender                        11104 non-null  object \n",
      " 9   took_part_in_the_hostilities  9694 non-null   object \n",
      " 10  place_of_residence            11056 non-null  object \n",
      " 11  place_of_residence_district   11056 non-null  object \n",
      " 12  type_of_injury                10833 non-null  object \n",
      " 13  ammunition                    5871 non-null   object \n",
      " 14  killed_by                     11124 non-null  object \n",
      " 15  notes                         10844 non-null  object \n",
      "dtypes: float64(1), object(15)\n",
      "memory usage: 1.4+ MB\n"
     ]
    }
   ],
   "source": [
    "df.info()"
   ]
  },
  {
   "cell_type": "code",
   "execution_count": 6,
   "id": "aea600df",
   "metadata": {
    "scrolled": true
   },
   "outputs": [
    {
     "data": {
      "text/plain": [
       "name                               0\n",
       "date_of_event                      0\n",
       "age                              129\n",
       "citizenship                        0\n",
       "event_location                     0\n",
       "event_location_district            0\n",
       "event_location_region              0\n",
       "date_of_death                      0\n",
       "gender                            20\n",
       "took_part_in_the_hostilities    1430\n",
       "place_of_residence                68\n",
       "place_of_residence_district       68\n",
       "type_of_injury                   291\n",
       "ammunition                      5253\n",
       "killed_by                          0\n",
       "notes                            280\n",
       "dtype: int64"
      ]
     },
     "execution_count": 6,
     "metadata": {},
     "output_type": "execute_result"
    }
   ],
   "source": [
    "df.isnull().sum()"
   ]
  },
  {
   "cell_type": "markdown",
   "id": "4b130354",
   "metadata": {},
   "source": [
    "###Data cleaning "
   ]
  },
  {
   "cell_type": "code",
   "execution_count": 13,
   "id": "17c1fff4",
   "metadata": {},
   "outputs": [],
   "source": [
    "mean_age = df['age'].mean()\n",
    "df['age'].fillna(mean_age, inplace=True)"
   ]
  },
  {
   "cell_type": "code",
   "execution_count": 14,
   "id": "04600323",
   "metadata": {},
   "outputs": [],
   "source": [
    "df['age'] = df['age'].astype(int)"
   ]
  },
  {
   "cell_type": "code",
   "execution_count": 15,
   "id": "5a25ba93",
   "metadata": {},
   "outputs": [],
   "source": [
    "mode_gender = df['gender'].mode()[0]\n",
    "df['gender'].fillna(mode_gender, inplace=True)"
   ]
  },
  {
   "cell_type": "code",
   "execution_count": 16,
   "id": "f3149348",
   "metadata": {},
   "outputs": [],
   "source": [
    "mode_value = df['took_part_in_the_hostilities'].mode()[0]\n",
    "df['took_part_in_the_hostilities'].fillna(mode_value, inplace=True)\n"
   ]
  },
  {
   "cell_type": "code",
   "execution_count": 17,
   "id": "5e2ab380",
   "metadata": {},
   "outputs": [],
   "source": [
    "mode_value = df['place_of_residence'].mode()[0]\n",
    "df['place_of_residence'].fillna(mode_value, inplace=True)"
   ]
  },
  {
   "cell_type": "code",
   "execution_count": 18,
   "id": "ed7dc924",
   "metadata": {},
   "outputs": [],
   "source": [
    "mode_value = df['place_of_residence_district'].mode()[0]\n",
    "df['place_of_residence_district'].fillna(mode_value, inplace=True)"
   ]
  },
  {
   "cell_type": "code",
   "execution_count": 19,
   "id": "5c5cd2b4",
   "metadata": {},
   "outputs": [],
   "source": [
    "mode_value = df['type_of_injury'].mode()[0]\n",
    "df['type_of_injury'].fillna(mode_value, inplace=True)"
   ]
  },
  {
   "cell_type": "code",
   "execution_count": 20,
   "id": "6b8c37cd",
   "metadata": {},
   "outputs": [],
   "source": [
    "mode_value = df['ammunition'].mode()[0]\n",
    "df['ammunition'].fillna(mode_value, inplace=True)"
   ]
  },
  {
   "cell_type": "code",
   "execution_count": 21,
   "id": "67806ca2",
   "metadata": {},
   "outputs": [],
   "source": [
    "mode_value = df['ammunition'].mode()[0]\n",
    "df['ammunition'].fillna(mode_value, inplace=True)"
   ]
  },
  {
   "cell_type": "code",
   "execution_count": 22,
   "id": "ec82b8ca",
   "metadata": {},
   "outputs": [],
   "source": [
    "df['notes'].fillna('No information', inplace=True)"
   ]
  },
  {
   "cell_type": "code",
   "execution_count": 23,
   "id": "64e747a7",
   "metadata": {},
   "outputs": [
    {
     "data": {
      "text/plain": [
       "name                            0\n",
       "date_of_event                   0\n",
       "age                             0\n",
       "citizenship                     0\n",
       "event_location                  0\n",
       "event_location_district         0\n",
       "event_location_region           0\n",
       "date_of_death                   0\n",
       "gender                          0\n",
       "took_part_in_the_hostilities    0\n",
       "place_of_residence              0\n",
       "place_of_residence_district     0\n",
       "type_of_injury                  0\n",
       "ammunition                      0\n",
       "killed_by                       0\n",
       "notes                           0\n",
       "dtype: int64"
      ]
     },
     "execution_count": 23,
     "metadata": {},
     "output_type": "execute_result"
    }
   ],
   "source": [
    "df.isnull().sum()"
   ]
  },
  {
   "cell_type": "code",
   "execution_count": 24,
   "id": "3d9e5ccb",
   "metadata": {},
   "outputs": [
    {
     "data": {
      "text/html": [
       "<div>\n",
       "<style scoped>\n",
       "    .dataframe tbody tr th:only-of-type {\n",
       "        vertical-align: middle;\n",
       "    }\n",
       "\n",
       "    .dataframe tbody tr th {\n",
       "        vertical-align: top;\n",
       "    }\n",
       "\n",
       "    .dataframe thead th {\n",
       "        text-align: right;\n",
       "    }\n",
       "</style>\n",
       "<table border=\"1\" class=\"dataframe\">\n",
       "  <thead>\n",
       "    <tr style=\"text-align: right;\">\n",
       "      <th></th>\n",
       "      <th>age</th>\n",
       "    </tr>\n",
       "  </thead>\n",
       "  <tbody>\n",
       "    <tr>\n",
       "      <th>count</th>\n",
       "      <td>11124.000000</td>\n",
       "    </tr>\n",
       "    <tr>\n",
       "      <th>mean</th>\n",
       "      <td>26.737055</td>\n",
       "    </tr>\n",
       "    <tr>\n",
       "      <th>std</th>\n",
       "      <td>13.700637</td>\n",
       "    </tr>\n",
       "    <tr>\n",
       "      <th>min</th>\n",
       "      <td>1.000000</td>\n",
       "    </tr>\n",
       "    <tr>\n",
       "      <th>25%</th>\n",
       "      <td>19.000000</td>\n",
       "    </tr>\n",
       "    <tr>\n",
       "      <th>50%</th>\n",
       "      <td>23.000000</td>\n",
       "    </tr>\n",
       "    <tr>\n",
       "      <th>75%</th>\n",
       "      <td>31.000000</td>\n",
       "    </tr>\n",
       "    <tr>\n",
       "      <th>max</th>\n",
       "      <td>112.000000</td>\n",
       "    </tr>\n",
       "  </tbody>\n",
       "</table>\n",
       "</div>"
      ],
      "text/plain": [
       "                age\n",
       "count  11124.000000\n",
       "mean      26.737055\n",
       "std       13.700637\n",
       "min        1.000000\n",
       "25%       19.000000\n",
       "50%       23.000000\n",
       "75%       31.000000\n",
       "max      112.000000"
      ]
     },
     "execution_count": 24,
     "metadata": {},
     "output_type": "execute_result"
    }
   ],
   "source": [
    "df.describe()"
   ]
  },
  {
   "cell_type": "code",
   "execution_count": 25,
   "id": "b4d59c7a",
   "metadata": {},
   "outputs": [
    {
     "data": {
      "image/png": "[encoded data removed]",
      "text/plain": [
       "<Figure size 640x480 with 1 Axes>"
      ]
     },
     "metadata": {},
     "output_type": "display_data"
    }
   ],
   "source": [
    "df.columns\n",
    "sns.histplot(df['citizenship'], kde = True)\n",
    "plt.savefig('citizenship.jpg')\n"
   ]
  },
  {
   "cell_type": "code",
   "execution_count": 26,
   "id": "33d1f8f7",
   "metadata": {},
   "outputs": [
    {
     "data": {
      "text/plain": [
       "<function matplotlib.pyplot.show(close=None, block=None)>"
      ]
     },
     "execution_count": 26,
     "metadata": {},
     "output_type": "execute_result"
    },
    {
     "data": {
      "image/png": "[encoded data removed]",
      "text/plain": [
       "<Figure size 640x480 with 1 Axes>"
      ]
     },
     "metadata": {},
     "output_type": "display_data"
    }
   ],
   "source": [
    "df.columns\n",
    "sns.histplot(df['killed_by'], kde = True)\n",
    "plt.show\n"
   ]
  },
  {
   "cell_type": "code",
   "execution_count": 27,
   "id": "6a3e907b",
   "metadata": {},
   "outputs": [
    {
     "name": "stderr",
     "output_type": "stream",
     "text": [
      "C:\\Users\\ajiri\\anaconda3\\lib\\site-packages\\seaborn\\_decorators.py:36: FutureWarning: Pass the following variable as a keyword arg: x. From version 0.12, the only valid positional argument will be `data`, and passing other arguments without an explicit keyword will result in an error or misinterpretation.\n",
      "  warnings.warn(\n"
     ]
    },
    {
     "data": {
      "text/plain": [
       "<function matplotlib.pyplot.show(close=None, block=None)>"
      ]
     },
     "execution_count": 27,
     "metadata": {},
     "output_type": "execute_result"
    },
    {
     "data": {
      "image/png": "[encoded data removed]",
      "text/plain": [
       "<Figure size 640x480 with 1 Axes>"
      ]
     },
     "metadata": {},
     "output_type": "display_data"
    }
   ],
   "source": [
    "sns.countplot(df['gender'])\n",
    "plt.show"
   ]
  },
  {
   "cell_type": "code",
   "execution_count": 28,
   "id": "3397d434",
   "metadata": {},
   "outputs": [
    {
     "data": {
      "text/plain": [
       "<function matplotlib.pyplot.show(close=None, block=None)>"
      ]
     },
     "execution_count": 28,
     "metadata": {},
     "output_type": "execute_result"
    },
    {
     "data": {
      "image/png": "[encoded data removed]",
      "text/plain": [
       "<Figure size 640x480 with 1 Axes>"
      ]
     },
     "metadata": {},
     "output_type": "display_data"
    }
   ],
   "source": [
    "sns.barplot(x = 'age', y = 'citizenship', hue = 'gender', data = df)\n",
    "plt.show"
   ]
  },
  {
   "cell_type": "code",
   "execution_count": 31,
   "id": "bf6130dc",
   "metadata": {},
   "outputs": [],
   "source": [
    "death_counts = df['citizenship'].value_counts()"
   ]
  },
  {
   "cell_type": "code",
   "execution_count": 33,
   "id": "9650a132",
   "metadata": {},
   "outputs": [
    {
     "data": {
      "text/plain": [
       "Palestinian    10092\n",
       "Israeli         1029\n",
       "Jordanian          2\n",
       "American           1\n",
       "Name: citizenship, dtype: int64"
      ]
     },
     "execution_count": 33,
     "metadata": {},
     "output_type": "execute_result"
    }
   ],
   "source": [
    "death_counts"
   ]
  },
  {
   "cell_type": "code",
   "execution_count": 34,
   "id": "279072de",
   "metadata": {},
   "outputs": [],
   "source": [
    "palestinian_killed_by = df[df['citizenship'] == 'Palestinian']['killed_by'].value_counts()\n",
    "israeli_killed_by = df[df['citizenship'] == 'Israeli']['killed_by'].value_counts()"
   ]
  },
  {
   "cell_type": "code",
   "execution_count": 35,
   "id": "2ebe8b8e",
   "metadata": {},
   "outputs": [
    {
     "name": "stdout",
     "output_type": "stream",
     "text": [
      "Palestinian Deaths - Responsible Groups:\n",
      "Israeli security forces    9996\n",
      "Israeli civilians            96\n",
      "Name: killed_by, dtype: int64\n"
     ]
    }
   ],
   "source": [
    "print(\"Palestinian Deaths - Responsible Groups:\")\n",
    "print(palestinian_killed_by)"
   ]
  },
  {
   "cell_type": "code",
   "execution_count": 36,
   "id": "30d6420a",
   "metadata": {},
   "outputs": [
    {
     "name": "stdout",
     "output_type": "stream",
     "text": [
      "Israeli Deaths - Responsible Groups:\n",
      "Palestinian civilians      1028\n",
      "Israeli security forces       1\n",
      "Name: killed_by, dtype: int64\n"
     ]
    }
   ],
   "source": [
    "print(\"Israeli Deaths - Responsible Groups:\")\n",
    "print(israeli_killed_by)"
   ]
  },
  {
   "cell_type": "code",
   "execution_count": 38,
   "id": "2a23f568",
   "metadata": {},
   "outputs": [
    {
     "data": {
      "text/plain": [
       "event_location_region\n",
       "Gaza Strip    7733\n",
       "Israel         679\n",
       "West Bank     2712\n",
       "Name: name, dtype: int64"
      ]
     },
     "execution_count": 38,
     "metadata": {},
     "output_type": "execute_result"
    }
   ],
   "source": [
    "deaths_by_region = df.groupby('event_location_region')['name'].count()\n",
    "deaths_by_region"
   ]
  },
  {
   "cell_type": "code",
   "execution_count": 41,
   "id": "8b289a01",
   "metadata": {},
   "outputs": [
    {
     "data": {
      "text/plain": [
       "Text(0.5, 1.0, 'Number of Deaths by Event Location Region')"
      ]
     },
     "execution_count": 41,
     "metadata": {},
     "output_type": "execute_result"
    },
    {
     "data": {
      "image/png": "[encoded data removed]",
      "text/plain": [
       "<Figure size 1000x800 with 1 Axes>"
      ]
     },
     "metadata": {},
     "output_type": "display_data"
    }
   ],
   "source": [
    "plt.figure(figsize=(10, 8))\n",
    "plt.bar(deaths_by_region.index, deaths_by_region.values, color='green')\n",
    "plt.xlabel('Event Location Region')\n",
    "plt.ylabel('Number of Deaths')\n",
    "plt.title('Number of Deaths by Event Location Region')"
   ]
  },
  {
   "cell_type": "code",
   "execution_count": null,
   "id": "5b4edfc6",
   "metadata": {},
   "outputs": [],
   "source": []
  }
 ],
 "metadata": {
  "kernelspec": {
   "display_name": "Python 3 (ipykernel)",
   "language": "python",
   "name": "python3"
  },
  "language_info": {
   "codemirror_mode": {
    "name": "ipython",
    "version": 3
   },
   "file_extension": ".py",
   "mimetype": "text/x-python",
   "name": "python",
   "nbconvert_exporter": "python",
   "pygments_lexer": "ipython3",
   "version": "3.9.13"
  }
 },
 "nbformat": 4,
 "nbformat_minor": 5
}
